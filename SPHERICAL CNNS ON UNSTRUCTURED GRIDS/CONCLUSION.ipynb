{
 "cells": [
  {
   "cell_type": "markdown",
   "metadata": {},
   "source": [
    "# 结论"
   ]
  },
  {
   "cell_type": "markdown",
   "metadata": {},
   "source": [
    "We have presented a novel method for performing convolution on unstructured grids using parameterized\n",
    "differential operators as convolution kernels. Our results demonstrate its applicability to\n",
    "machine learning problems with spherical signals and show significant improvements in terms of\n",
    "overall performance and parameter efficiency. We believe that these advances are particularly valuable\n",
    "with the increasing relevance of omnidirectional signals, for instance, as captured by real-world\n",
    "3D or LIDAR panorama sensors."
   ]
  },
  {
   "cell_type": "markdown",
   "metadata": {},
   "source": [
    "我们提出了一种使用参数化微分算子作为卷积核来对非结构化网格进行卷积的新方法。\n",
    "\n",
    "我们的结果证明了它适用于球形信号的机器学习问题，并在整体性能和参数效率方面显示出显着的改进。\n",
    "\n",
    "我们相信这些进步对于全向信号的日益增加的相关性特别有价值，例如，由真实世界的3D或LIDAR全景传感器捕获。"
   ]
  },
  {
   "cell_type": "code",
   "execution_count": null,
   "metadata": {},
   "outputs": [],
   "source": []
  }
 ],
 "metadata": {
  "kernelspec": {
   "display_name": "Python 3",
   "language": "python",
   "name": "python3"
  },
  "language_info": {
   "codemirror_mode": {
    "name": "ipython",
    "version": 3
   },
   "file_extension": ".py",
   "mimetype": "text/x-python",
   "name": "python",
   "nbconvert_exporter": "python",
   "pygments_lexer": "ipython3",
   "version": "3.7.3"
  }
 },
 "nbformat": 4,
 "nbformat_minor": 2
}
