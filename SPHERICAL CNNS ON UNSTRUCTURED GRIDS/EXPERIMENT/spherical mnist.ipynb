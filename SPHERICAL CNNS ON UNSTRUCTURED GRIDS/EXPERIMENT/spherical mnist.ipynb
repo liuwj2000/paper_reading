{
 "cells": [
  {
   "cell_type": "markdown",
   "metadata": {},
   "source": [
    "# SPHERICAL MNIST 球形的MNIST"
   ]
  },
  {
   "cell_type": "markdown",
   "metadata": {},
   "source": [
    "To validate the use of parameterized differential operators to replace conventional convolution operators,\n",
    "we implemented such neural networks towards solving the classic computer vision **benchmark**\n",
    "task: the MNIST digit recognition problem (LeCun, 1998)."
   ]
  },
  {
   "cell_type": "markdown",
   "metadata": {},
   "source": [
    "benchmark 基准"
   ]
  },
  {
   "cell_type": "markdown",
   "metadata": {},
   "source": [
    "为了验证使用参数化微分算子来代替传统的卷积算子，我们用我们自己的神经网络来解决经典的计算机视觉基准测试任务：MNIST数字识别问题（LeCun，1998）。"
   ]
  },
  {
   "cell_type": "markdown",
   "metadata": {},
   "source": [
    "# Experiment Setup实验配置"
   ]
  },
  {
   "cell_type": "markdown",
   "metadata": {},
   "source": [
    "We follow Cohen et al. (2018) by projecting the **pixelated** digits onto the surface\n",
    "of the unit sphere. We further move the digits to the equator to prevent coordinate singularity\n",
    "at the poles. We benchmark our model against two other implementations of spherical CNNs: a\n",
    "rotational-invariant model by Cohen et al. (2018) and an orientable model by Coors et al. (2018).\n",
    "All models are trained and tested with non-rotated digits to illustrate the performance gain from\n",
    "orientation information."
   ]
  },
  {
   "cell_type": "markdown",
   "metadata": {},
   "source": [
    "pixelated 像素化的"
   ]
  },
  {
   "cell_type": "markdown",
   "metadata": {},
   "source": [
    "同Cohen等人（2018）一样，我们将像素化数字投影到单位球体的表面上。\n",
    "\n",
    "我们进一步将数字移动到赤道以防止极点处的坐标奇点。\n",
    "\n",
    "我们将我们的模型与球形CNN的另外两种实现进行对比：Cohen等人的旋转不变模型（2018）和Coors等人的可定向模型（2018）。\n",
    "\n",
    "所有模型都是再非旋转数字上进行训练和测试的，我们用这种方式说明方向信息的作用"
   ]
  },
  {
   "cell_type": "markdown",
   "metadata": {},
   "source": [
    "#  Results and Discussion"
   ]
  },
  {
   "cell_type": "markdown",
   "metadata": {},
   "source": [
    "Our model outperforms its counterparts by a significant margin, achieving\n",
    "the best performance among comparable algorithms, with comparable number of parameters. We\n",
    "attribute the success in our model to the gain in orientation information, which is indispensable for\n",
    "many vision tasks. In contrast, S2CNN (Cohen et al., 2018) is rotational-invariant, and thus has\n",
    "difficulties distinguishing digits “6” and “9”."
   ]
  },
  {
   "cell_type": "markdown",
   "metadata": {},
   "source": [
    "我们的模型在很大程度上优于同行，在可比算法中实现了最佳性能，参数数量很可观。\n",
    "\n",
    "我们将模型的成功归功于方向信息的获取，这对于许多视觉任务来说是不可或缺的。\n",
    "\n",
    "相反，S2CNN（Cohen等，2018）是旋转不变的，因此难以区分数字“6”和“9”。"
   ]
  },
  {
   "cell_type": "code",
   "execution_count": null,
   "metadata": {},
   "outputs": [],
   "source": []
  }
 ],
 "metadata": {
  "kernelspec": {
   "display_name": "Python 3",
   "language": "python",
   "name": "python3"
  },
  "language_info": {
   "codemirror_mode": {
    "name": "ipython",
    "version": 3
   },
   "file_extension": ".py",
   "mimetype": "text/x-python",
   "name": "python",
   "nbconvert_exporter": "python",
   "pygments_lexer": "ipython3",
   "version": "3.7.3"
  }
 },
 "nbformat": 4,
 "nbformat_minor": 2
}
