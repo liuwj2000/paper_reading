{
 "cells": [
  {
   "cell_type": "markdown",
   "metadata": {},
   "source": [
    " # climate pattern segmentation  气候模式分割"
   ]
  },
  {
   "cell_type": "markdown",
   "metadata": {},
   "source": [
    "To further illustrate the capabilities of our model, we evaluate our model on the climate pattern\n",
    "segmentation task. We follow Mudigonda et al. (2017) for preprocessing the data and acquiring\n",
    "the ground-truth labels for this task. This task involves the segmentation of Atmospheric Rivers\n",
    "(AR) and Tropical Cyclones (TC) in global climate model simulations. Following Mudigonda et al.\n",
    "(2017), we analyze outputs from a 20-year run of the Community Atmospheric Model v5 (CAM5)\n",
    "(Neale et al., 2010). We benchmark our performance against Mudigonda et al. (2017) for the climate\n",
    "segmentation task to highlight our model performance. We preprocess the data to level-5 resolution."
   ]
  },
  {
   "cell_type": "markdown",
   "metadata": {},
   "source": [
    "为了进一步说明我们模型的能力，我们评估了气候模式分割任务的模型。\n",
    "\n",
    "我们遵循Mudigonda等人（2017）对数据进行预处理并获取此任务的地面实况标签。\n",
    "\n",
    "该任务涉及全球气候模型模拟中的大气河流（AR）和热带气旋（TC）的分割。\n",
    "\n",
    "在Mudigonda等人（2017年）之后，我们分析了社区大气模型v5（CAM5）的20年运行（Neale等，2010）。\n",
    "\n",
    "我们根据气候分割任务对Mudigonda等人（2017）的性能进行基准测试，以突出我们的模型性能。 我们将数据预处理为5级正二十面体网格。"
   ]
  },
  {
   "cell_type": "markdown",
   "metadata": {},
   "source": [
    "## 实验结果 "
   ]
  },
  {
   "cell_type": "markdown",
   "metadata": {},
   "source": [
    "Segmentation accuracy is presented in Table 3. Our model achieves better\n",
    "segmentation accuracy as compared to the baseline models. The baseline model (Mudigonda et al.,\n",
    "2017) trains and tests on random crops of the global data, whereas our model inputs the entire\n",
    "global data and predicts at the same output resolution as the input. Processing full global data\n",
    "allows the network to acquire better holistic understanding of the information, resulting in better\n",
    "overall performance."
   ]
  },
  {
   "cell_type": "markdown",
   "metadata": {},
   "source": [
    "分割精度如表3所示。与基线模型相比，我们的模型实现了更好的分割精度。 基线模型（Mudigonda等，2017）对全球数据的随机作物进行训练和测试，而我们的模型输入整个全局数据并以与输入相同的输出分辨率进行预测。 处理完整的全局数据使网络能够更好地全面了解信息，从而提高整体性能。"
   ]
  },
  {
   "cell_type": "code",
   "execution_count": null,
   "metadata": {},
   "outputs": [],
   "source": []
  }
 ],
 "metadata": {
  "kernelspec": {
   "display_name": "Python 3",
   "language": "python",
   "name": "python3"
  },
  "language_info": {
   "codemirror_mode": {
    "name": "ipython",
    "version": 3
   },
   "file_extension": ".py",
   "mimetype": "text/x-python",
   "name": "python",
   "nbconvert_exporter": "python",
   "pygments_lexer": "ipython3",
   "version": "3.7.3"
  }
 },
 "nbformat": 4,
 "nbformat_minor": 2
}
